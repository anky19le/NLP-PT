{
  "nbformat": 4,
  "nbformat_minor": 0,
  "metadata": {
    "colab": {
      "name": "BASELINE_TC_Task_Propaganda.ipynb",
      "provenance": [],
      "collapsed_sections": []
    },
    "kernelspec": {
      "name": "python3",
      "display_name": "Python 3"
    },
    "language_info": {
      "name": "python"
    },
    "accelerator": "GPU"
  },
  "cells": [
    {
      "cell_type": "code",
      "execution_count": null,
      "source": [
        "from google.colab import drive\n",
        "drive.mount('/content/drive')"
      ],
      "outputs": [],
      "metadata": {
        "id": "Griq9kfX0wwP"
      }
    },
    {
      "cell_type": "code",
      "execution_count": null,
      "source": [
        "import os\n",
        "import codecs\n",
        "import glob\n",
        "import numpy as np\n",
        "import pandas as pd\n",
        "from nltk.tokenize.punkt import PunktSentenceTokenizer\n",
        "from sklearn.model_selection import train_test_split"
      ],
      "outputs": [],
      "metadata": {
        "id": "Jk65toPCTjNk"
      }
    },
    {
      "cell_type": "code",
      "execution_count": null,
      "source": [
        "##update the project directort here before running the file\n",
        "\n",
        "project_dir=\"/content/drive/MyDrive/project_5_data\"\n",
        "data_dir=os.path.join(project_dir, \"datasets\")\n",
        "scorer_path=os.path.join(project_dir,\"propaganda-techniques-scorer\")\n",
        "propaganda_techniques_names=os.path.join(scorer_path,\"data/propaganda-techniques-names-semeval2020task11.txt\")"
      ],
      "outputs": [],
      "metadata": {
        "id": "RVkQe0OeQraZ"
      }
    },
    {
      "cell_type": "code",
      "execution_count": null,
      "source": [
        "\n",
        "\n",
        "\n",
        "\n",
        "\n",
        "def read_articles(folder_name, file_extension=\"*.txt\"):\n",
        "    '''Function to read articles from the given folders '''\n",
        "    articles = {}\n",
        "    #article_id_list, sentence_id_list, sentence_list = ([], [], [])\n",
        "    filename_list = glob.glob(os.path.join(folder_name, file_extension))\n",
        "    for file_id in sorted(filename_list):\n",
        "        art_id = os.path.basename(file_id).split(\".\")[0][7:]\n",
        "        with codecs.open(file_id, \"r\", encoding=\"utf8\") as a:\n",
        "            articles[art_id] = a.read()\n",
        "    return articles\n",
        "\n",
        "\n",
        "\n",
        "\n",
        "def read_span_prediction(filename):\n",
        "    '''Function to read span prediction from the given file '''\n",
        "    articles_id, start_span, end_span, golden_labels = ([], [], [], [])\n",
        "    with open(filename, \"r\") as f:\n",
        "        for row in f.readlines():\n",
        "            art_id, golden_label, start, end = row.rstrip().split(\"\\t\")\n",
        "            articles_id.append(art_id)\n",
        "            start_span.append(start)\n",
        "            end_span.append(end)\n",
        "            golden_labels.append(golden_label)\n",
        "            \n",
        "    return articles_id, start_span, end_span, golden_labels\n",
        "\n",
        "def data_loader(data_folder, data_labels):\n",
        "    '''Function to load data and data labels '''\n",
        "    articles = read_articles(data_folder)\n",
        "    art_id, start_span, end_span, labels = read_span_prediction(data_labels)\n",
        "    return articles, art_id, start_span, end_span, labels\n",
        "\n",
        "\n",
        "\n",
        "# def clear(text):\n",
        "#     return text.strip().replace('\\t', ' ').replace('\\n', ' ')\n",
        "def remove(text):\n",
        "    '''Function to replace \\t and \\n with space '''\n",
        "    return text.strip().replace('\\t', ' ').replace('\\n', ' ')\n",
        "\n",
        "def tok_bound(text):\n",
        "    sent = []\n",
        "    for start, end in PunktSentenceTokenizer().span_tokenize(text):\n",
        "        sent.append(start)\n",
        "    sent.append(100000)\n",
        "    return np.array(sent)\n",
        "\n",
        "\n",
        "\n",
        "def context(article, start_span, end_span):\n",
        "    '''Function to get the context'''\n",
        "    b = tok_bound(article)\n",
        "    s = b[np.where(b <= start_span)[0][-1]]\n",
        "    e = b[np.where(b >= end_span)[0][0]]\n",
        "    return remove(article[s:e])\n",
        "\n",
        "\n",
        "def create_dataframe(articles, art_id, start_spans, end_spans, golden_labels):\n",
        "    '''Function to create pandas dataframe'''\n",
        "    dataframe = pd.DataFrame.from_dict({'article_id': art_id, \n",
        "              'article': [articles[id] for id in art_id], \n",
        "              'start_span': np.array(start_spans).astype(int), \n",
        "              'end_span': np.array(end_spans).astype(int),\n",
        "              'label': golden_labels\n",
        "             })\n",
        "    \n",
        "    dataframe['data_context'] = dataframe.apply(lambda x: context(x['article'], x['start_span'], x['end_span']), axis=1)\n",
        "    dataframe['data_span'] = dataframe.apply(lambda x: remove(x['article'][x['start_span']:x['end_span']]), axis=1)\n",
        "    return dataframe[['article_id', 'start_span', 'end_span', 'data_span', 'data_context', 'label']]\n",
        "\n",
        "\n",
        "def balance_dataset(dataset):\n",
        "    '''Function to balance dataset'''\n",
        "    data_list = [dataset]\n",
        "    max_cnt = dataset['label'].value_counts().max()\n",
        "    for id, group in dataset.groupby('label'):\n",
        "        data_list.append(group.sample(max_cnt - len(group), replace=True))\n",
        "    return pd.concat(data_list)\n",
        "\n",
        "\n",
        "\n",
        "\n",
        "\n",
        "\n"
      ],
      "outputs": [],
      "metadata": {
        "id": "6UJXbBhUyUap"
      }
    },
    {
      "cell_type": "code",
      "source": [
        "def create_train_dev_files(articles, art_id, start_spans, end_spans, golden_labels, train_file, dev_file,\n",
        "                     split_by_ids=False, dev_size=0.3, random_state=40, balance=False, shuffle=True):\n",
        "    '''Function to generate train and dev files'''\n",
        "    dataframe = create_dataframe(articles, art_id, start_spans, end_spans, golden_labels)\n",
        "    if split_by_ids:\n",
        "        train_ids, dev_ids = train_test_split(dataframe.article_id.unique(), test_size=dev_size, random_state=random_state)\n",
        "        train_data = dataframe[dataframe.article_id.isin(train_ids)]\n",
        "        dev_data = dataframe[dataframe.article_id.isin(dev_ids)]\n",
        "    else:\n",
        "        train_data, dev_data = train_test_split(dataframe, test_size=dev_size, random_state=random_state)\n",
        "        \n",
        "    if balance:\n",
        "        train_data = balance_dataset(train)\n",
        "    if shuffle:\n",
        "        train_data = train_data.sample(frac=1).reset_index(drop=True)\n",
        "    \n",
        "    # save_data_to_csv(train, train_file)\n",
        "    # save_data_to_csv(dev, dev_file)\n",
        "    train_data.to_csv(train_file, sep='\\t', index=False)\n",
        "    dev_data.to_csv(dev_file, sep='\\t', index=False)\n",
        "\n",
        "    \n",
        "\n",
        "    "
      ],
      "metadata": {
        "id": "mcwrNMy3eyxK"
      },
      "execution_count": null,
      "outputs": []
    },
    {
      "cell_type": "code",
      "source": [
        "def create_test_file(articles, ref_articles_id, ref_span_starts, ref_span_ends, labels, test_file):\n",
        "    '''Function to generate test files'''\n",
        "    test_data = create_dataframe(articles, ref_articles_id, ref_span_starts, ref_span_ends, labels)\n",
        "    #save_data_to_csv(test, test_file)\n",
        "    test_data.to_csv(test_file, sep='\\t', index=False)"
      ],
      "metadata": {
        "id": "08bpc4piey5G"
      },
      "execution_count": null,
      "outputs": []
    },
    {
      "cell_type": "code",
      "execution_count": null,
      "source": [
        "train_folder=os.path.join(data_dir, \"train-articles\")\n",
        "train_labels=os.path.join(data_dir, \"train-task-flc-tc.labels\")\n",
        "\n",
        "articles, ref_articles_id, ref_span_starts, ref_span_ends, labels=data_loader(train_folder, train_labels)"
      ],
      "outputs": [],
      "metadata": {
        "id": "5yeLfqTkzx3f"
      }
    },
    {
      "cell_type": "code",
      "execution_count": null,
      "source": [
        "dev_folder=os.path.join(data_dir, \"dev-articles\")\n",
        "dev_labels=os.path.join(data_dir, \"dev-task-flc-tc.labels\")\n",
        "\n",
        "import spacy\n",
        "nlp = spacy.blank(\"en\") # load a new spacy model"
      ],
      "outputs": [],
      "metadata": {
        "id": "yDGLQWX4zv_Y"
      }
    },
    {
      "cell_type": "code",
      "execution_count": null,
      "source": [
        "articles_dev, ref_articles_id_dev, ref_span_starts_dev, ref_span_ends_dev, labels_dev=data_loader(dev_folder, dev_labels)"
      ],
      "outputs": [],
      "metadata": {
        "id": "O092HNrV0BOf"
      }
    },
    {
      "cell_type": "code",
      "execution_count": null,
      "source": [
        "import pandas as pd\n",
        "\n",
        "def dev_dataframe(articles_dev, ref_articles_id_dev, ref_span_starts_dev, ref_span_ends_dev):\n",
        "  dev_df=pd.DataFrame()\n",
        "  cols=['art_id','starts','ends','text']\n",
        "\n",
        "  dev_df[cols]=cols\n",
        "  art_ids=[]\n",
        "  starts=[]\n",
        "  ends=[]\n",
        "  for i,id in enumerate(ref_articles_id_dev):\n",
        "    # text=articles_dev[id]\n",
        "    art_ids.append(id)\n",
        "    starts.append(ref_span_starts_dev[i])\n",
        "    ends.append(ref_span_ends_dev[i])\n",
        "  dev_df['art_id']=art_ids\n",
        "  dev_df['starts']=starts\n",
        "  dev_df['ends']=ends\n",
        "  #print(dev_df)\n",
        "  return dev_df\n",
        "\n",
        "dev_df=dev_dataframe(articles_dev, ref_articles_id_dev, ref_span_starts_dev, ref_span_ends_dev)\n",
        "print(dev_df)\n",
        "# dev_df=pd.DataFrame()\n",
        "# cols=['art_id','starts','ends','text']\n",
        "\n",
        "# dev_df[cols]=cols\n",
        "# art_ids=[]\n",
        "# starts=[]\n",
        "# ends=[]\n",
        "# for i,id in enumerate(ref_articles_id_dev):\n",
        "#   # text=articles_dev[id]\n",
        "#   art_ids.append(id)\n",
        "#   starts.append(ref_span_starts_dev[i])\n",
        "#   ends.append(ref_span_ends_dev[i])\n",
        "# dev_df['art_id']=art_ids\n",
        "# dev_df['starts']=starts\n",
        "# dev_df['ends']=ends\n",
        "# print(dev_df)\n",
        "\n",
        "\n",
        "\n",
        "  \n",
        "\n",
        "\n"
      ],
      "outputs": [
        {
          "output_type": "stream",
          "name": "stdout",
          "text": [
            "         art_id starts  ends text\n",
            "0     730093263    123   128  NaN\n",
            "1     730093263    352   357  NaN\n",
            "2     730093263   1370  1393  NaN\n",
            "3     730093263   2434  2439  NaN\n",
            "4     730093263   2699  2807  NaN\n",
            "...         ...    ...   ...  ...\n",
            "1058  999001419   4828  4851  NaN\n",
            "1059  999001419    383   397  NaN\n",
            "1060  999001419   1244  1261  NaN\n",
            "1061  999001419   1319  1334  NaN\n",
            "1062  999001419   3641  3657  NaN\n",
            "\n",
            "[1063 rows x 4 columns]\n"
          ]
        }
      ],
      "metadata": {
        "colab": {
          "base_uri": "https://localhost:8080/"
        },
        "id": "RgB-50uT_Z60",
        "outputId": "c05e4b57-ae62-4e6e-c586-f31635f6b125"
      }
    },
    {
      "cell_type": "code",
      "execution_count": null,
      "source": [
        "def get_text_from_span(articles_dev,art_ids,starts,ends):\n",
        "  sentences=[]\n",
        "  for i,art_id in enumerate(art_ids):\n",
        "    article=articles_dev[art_id]\n",
        "    sentence = article[int(starts[i]):int(ends[i])]\n",
        "    sentences.append(sentence)\n",
        "  assert(len(sentences)==len(starts))\n",
        "  return sentences\n",
        "\n",
        "\n",
        "    \n"
      ],
      "outputs": [],
      "metadata": {
        "id": "yfUgsDpJC2YY"
      }
    },
    {
      "cell_type": "code",
      "execution_count": null,
      "source": [
        "#sents=get_text_from_span(articles_dev,art_ids,starts,ends)\n",
        "sents=get_text_from_span(articles_dev,dev_df['art_id'],dev_df['starts'],dev_df['ends'])"
      ],
      "outputs": [],
      "metadata": {
        "id": "rXRYj11zFMuU"
      }
    },
    {
      "cell_type": "code",
      "execution_count": null,
      "source": [
        "dev_df['text']=sents"
      ],
      "outputs": [],
      "metadata": {
        "id": "QAqVCuUUDzez"
      }
    },
    {
      "cell_type": "code",
      "execution_count": null,
      "source": [
        "dev_df.head()\n"
      ],
      "outputs": [
        {
          "output_type": "execute_result",
          "data": {
            "text/html": [
              "\n",
              "  <div id=\"df-f041156f-ddf5-4c4b-a726-a27075cbbd7e\">\n",
              "    <div class=\"colab-df-container\">\n",
              "      <div>\n",
              "<style scoped>\n",
              "    .dataframe tbody tr th:only-of-type {\n",
              "        vertical-align: middle;\n",
              "    }\n",
              "\n",
              "    .dataframe tbody tr th {\n",
              "        vertical-align: top;\n",
              "    }\n",
              "\n",
              "    .dataframe thead th {\n",
              "        text-align: right;\n",
              "    }\n",
              "</style>\n",
              "<table border=\"1\" class=\"dataframe\">\n",
              "  <thead>\n",
              "    <tr style=\"text-align: right;\">\n",
              "      <th></th>\n",
              "      <th>art_id</th>\n",
              "      <th>technique</th>\n",
              "      <th>starts</th>\n",
              "      <th>ends</th>\n",
              "      <th>text</th>\n",
              "    </tr>\n",
              "  </thead>\n",
              "  <tbody>\n",
              "    <tr>\n",
              "      <th>0</th>\n",
              "      <td>730093263</td>\n",
              "      <td>Appeal_to_Authority</td>\n",
              "      <td>123</td>\n",
              "      <td>128</td>\n",
              "      <td>white</td>\n",
              "    </tr>\n",
              "    <tr>\n",
              "      <th>1</th>\n",
              "      <td>730093263</td>\n",
              "      <td>Loaded_Language</td>\n",
              "      <td>352</td>\n",
              "      <td>357</td>\n",
              "      <td>black</td>\n",
              "    </tr>\n",
              "    <tr>\n",
              "      <th>2</th>\n",
              "      <td>730093263</td>\n",
              "      <td>Doubt</td>\n",
              "      <td>1370</td>\n",
              "      <td>1393</td>\n",
              "      <td>“true American heroes.”</td>\n",
              "    </tr>\n",
              "    <tr>\n",
              "      <th>3</th>\n",
              "      <td>730093263</td>\n",
              "      <td>Loaded_Language</td>\n",
              "      <td>2434</td>\n",
              "      <td>2439</td>\n",
              "      <td>black</td>\n",
              "    </tr>\n",
              "    <tr>\n",
              "      <th>4</th>\n",
              "      <td>730093263</td>\n",
              "      <td>Bandwagon,Reductio_ad_hitlerum</td>\n",
              "      <td>2699</td>\n",
              "      <td>2807</td>\n",
              "      <td>If these two men had survived, and Quentin Lam...</td>\n",
              "    </tr>\n",
              "  </tbody>\n",
              "</table>\n",
              "</div>\n",
              "      <button class=\"colab-df-convert\" onclick=\"convertToInteractive('df-f041156f-ddf5-4c4b-a726-a27075cbbd7e')\"\n",
              "              title=\"Convert this dataframe to an interactive table.\"\n",
              "              style=\"display:none;\">\n",
              "        \n",
              "  <svg xmlns=\"http://www.w3.org/2000/svg\" height=\"24px\"viewBox=\"0 0 24 24\"\n",
              "       width=\"24px\">\n",
              "    <path d=\"M0 0h24v24H0V0z\" fill=\"none\"/>\n",
              "    <path d=\"M18.56 5.44l.94 2.06.94-2.06 2.06-.94-2.06-.94-.94-2.06-.94 2.06-2.06.94zm-11 1L8.5 8.5l.94-2.06 2.06-.94-2.06-.94L8.5 2.5l-.94 2.06-2.06.94zm10 10l.94 2.06.94-2.06 2.06-.94-2.06-.94-.94-2.06-.94 2.06-2.06.94z\"/><path d=\"M17.41 7.96l-1.37-1.37c-.4-.4-.92-.59-1.43-.59-.52 0-1.04.2-1.43.59L10.3 9.45l-7.72 7.72c-.78.78-.78 2.05 0 2.83L4 21.41c.39.39.9.59 1.41.59.51 0 1.02-.2 1.41-.59l7.78-7.78 2.81-2.81c.8-.78.8-2.07 0-2.86zM5.41 20L4 18.59l7.72-7.72 1.47 1.35L5.41 20z\"/>\n",
              "  </svg>\n",
              "      </button>\n",
              "      \n",
              "  <style>\n",
              "    .colab-df-container {\n",
              "      display:flex;\n",
              "      flex-wrap:wrap;\n",
              "      gap: 12px;\n",
              "    }\n",
              "\n",
              "    .colab-df-convert {\n",
              "      background-color: #E8F0FE;\n",
              "      border: none;\n",
              "      border-radius: 50%;\n",
              "      cursor: pointer;\n",
              "      display: none;\n",
              "      fill: #1967D2;\n",
              "      height: 32px;\n",
              "      padding: 0 0 0 0;\n",
              "      width: 32px;\n",
              "    }\n",
              "\n",
              "    .colab-df-convert:hover {\n",
              "      background-color: #E2EBFA;\n",
              "      box-shadow: 0px 1px 2px rgba(60, 64, 67, 0.3), 0px 1px 3px 1px rgba(60, 64, 67, 0.15);\n",
              "      fill: #174EA6;\n",
              "    }\n",
              "\n",
              "    [theme=dark] .colab-df-convert {\n",
              "      background-color: #3B4455;\n",
              "      fill: #D2E3FC;\n",
              "    }\n",
              "\n",
              "    [theme=dark] .colab-df-convert:hover {\n",
              "      background-color: #434B5C;\n",
              "      box-shadow: 0px 1px 3px 1px rgba(0, 0, 0, 0.15);\n",
              "      filter: drop-shadow(0px 1px 2px rgba(0, 0, 0, 0.3));\n",
              "      fill: #FFFFFF;\n",
              "    }\n",
              "  </style>\n",
              "\n",
              "      <script>\n",
              "        const buttonEl =\n",
              "          document.querySelector('#df-f041156f-ddf5-4c4b-a726-a27075cbbd7e button.colab-df-convert');\n",
              "        buttonEl.style.display =\n",
              "          google.colab.kernel.accessAllowed ? 'block' : 'none';\n",
              "\n",
              "        async function convertToInteractive(key) {\n",
              "          const element = document.querySelector('#df-f041156f-ddf5-4c4b-a726-a27075cbbd7e');\n",
              "          const dataTable =\n",
              "            await google.colab.kernel.invokeFunction('convertToInteractive',\n",
              "                                                     [key], {});\n",
              "          if (!dataTable) return;\n",
              "\n",
              "          const docLinkHtml = 'Like what you see? Visit the ' +\n",
              "            '<a target=\"_blank\" href=https://colab.research.google.com/notebooks/data_table.ipynb>data table notebook</a>'\n",
              "            + ' to learn more about interactive tables.';\n",
              "          element.innerHTML = '';\n",
              "          dataTable['output_type'] = 'display_data';\n",
              "          await google.colab.output.renderOutput(dataTable, element);\n",
              "          const docLink = document.createElement('div');\n",
              "          docLink.innerHTML = docLinkHtml;\n",
              "          element.appendChild(docLink);\n",
              "        }\n",
              "      </script>\n",
              "    </div>\n",
              "  </div>\n",
              "  "
            ],
            "text/plain": [
              "      art_id                       technique starts  ends  \\\n",
              "0  730093263             Appeal_to_Authority    123   128   \n",
              "1  730093263                 Loaded_Language    352   357   \n",
              "2  730093263                           Doubt   1370  1393   \n",
              "3  730093263                 Loaded_Language   2434  2439   \n",
              "4  730093263  Bandwagon,Reductio_ad_hitlerum   2699  2807   \n",
              "\n",
              "                                                text  \n",
              "0                                              white  \n",
              "1                                              black  \n",
              "2                            “true American heroes.”  \n",
              "3                                              black  \n",
              "4  If these two men had survived, and Quentin Lam...  "
            ]
          },
          "metadata": {},
          "execution_count": 51
        }
      ],
      "metadata": {
        "colab": {
          "base_uri": "https://localhost:8080/",
          "height": 204
        },
        "id": "ZX3vNIPkGoa2",
        "outputId": "1bbf6bff-b61c-4782-ffee-2734488b3f7c"
      }
    },
    {
      "cell_type": "code",
      "execution_count": null,
      "source": [
        "\n",
        "create_train_dev_files(articles, ref_articles_id, ref_span_starts, ref_span_ends, labels, 'train_tc.tsv', 'dev_tc.tsv',\n",
        "                     split_by_ids=False, dev_size=0.3, random_state=40, balance=False, shuffle=True)"
      ],
      "outputs": [],
      "metadata": {
        "id": "pYxOuzc10DAT"
      }
    },
    {
      "cell_type": "code",
      "execution_count": null,
      "source": [
        "df=pd.read_csv('train_tc.tsv',sep='\\t')"
      ],
      "outputs": [],
      "metadata": {
        "id": "CE_dQPLi1bum"
      }
    },
    {
      "cell_type": "code",
      "execution_count": null,
      "source": [
        "df.head(10)"
      ],
      "outputs": [
        {
          "output_type": "execute_result",
          "data": {
            "text/html": [
              "\n",
              "  <div id=\"df-f792e62b-5026-4d42-9986-6096f0bdc327\">\n",
              "    <div class=\"colab-df-container\">\n",
              "      <div>\n",
              "<style scoped>\n",
              "    .dataframe tbody tr th:only-of-type {\n",
              "        vertical-align: middle;\n",
              "    }\n",
              "\n",
              "    .dataframe tbody tr th {\n",
              "        vertical-align: top;\n",
              "    }\n",
              "\n",
              "    .dataframe thead th {\n",
              "        text-align: right;\n",
              "    }\n",
              "</style>\n",
              "<table border=\"1\" class=\"dataframe\">\n",
              "  <thead>\n",
              "    <tr style=\"text-align: right;\">\n",
              "      <th></th>\n",
              "      <th>article_id</th>\n",
              "      <th>start_span</th>\n",
              "      <th>end_span</th>\n",
              "      <th>data_span</th>\n",
              "      <th>data_context</th>\n",
              "      <th>label</th>\n",
              "    </tr>\n",
              "  </thead>\n",
              "  <tbody>\n",
              "    <tr>\n",
              "      <th>0</th>\n",
              "      <td>752287274</td>\n",
              "      <td>7552</td>\n",
              "      <td>7607</td>\n",
              "      <td>if I ever call the police again [he] will do h...</td>\n",
              "      <td>[Imran] threatened that he is very powerful an...</td>\n",
              "      <td>Appeal_to_fear-prejudice</td>\n",
              "    </tr>\n",
              "    <tr>\n",
              "      <th>1</th>\n",
              "      <td>757843275</td>\n",
              "      <td>3263</td>\n",
              "      <td>3286</td>\n",
              "      <td>this year’s flu vaccine</td>\n",
              "      <td>For their sake, let’s hope it works better tha...</td>\n",
              "      <td>Whataboutism,Straw_Men,Red_Herring</td>\n",
              "    </tr>\n",
              "    <tr>\n",
              "      <th>2</th>\n",
              "      <td>789370909</td>\n",
              "      <td>6861</td>\n",
              "      <td>6881</td>\n",
              "      <td>the Kavanaugh haters</td>\n",
              "      <td>Ford’s sexual assault allegation could be read...</td>\n",
              "      <td>Name_Calling,Labeling</td>\n",
              "    </tr>\n",
              "    <tr>\n",
              "      <th>3</th>\n",
              "      <td>721890296</td>\n",
              "      <td>2456</td>\n",
              "      <td>2567</td>\n",
              "      <td>The reason why people are in your country is n...</td>\n",
              "      <td>“The reason why people are in your country is ...</td>\n",
              "      <td>Black-and-White_Fallacy</td>\n",
              "    </tr>\n",
              "    <tr>\n",
              "      <th>4</th>\n",
              "      <td>766632016</td>\n",
              "      <td>455</td>\n",
              "      <td>470</td>\n",
              "      <td>massacring Jews</td>\n",
              "      <td>In 1013, Berbers from North Africa entered Spa...</td>\n",
              "      <td>Loaded_Language</td>\n",
              "    </tr>\n",
              "    <tr>\n",
              "      <th>5</th>\n",
              "      <td>111111133</td>\n",
              "      <td>1070</td>\n",
              "      <td>1077</td>\n",
              "      <td>insults</td>\n",
              "      <td>Trump often lobs insults at journalists and en...</td>\n",
              "      <td>Loaded_Language</td>\n",
              "    </tr>\n",
              "    <tr>\n",
              "      <th>6</th>\n",
              "      <td>765385479</td>\n",
              "      <td>6205</td>\n",
              "      <td>6225</td>\n",
              "      <td>audaciously revealed</td>\n",
              "      <td>Katrin Axelsson and Lisa Longstaff of Women Ag...</td>\n",
              "      <td>Loaded_Language</td>\n",
              "    </tr>\n",
              "    <tr>\n",
              "      <th>7</th>\n",
              "      <td>776049384</td>\n",
              "      <td>2165</td>\n",
              "      <td>2173</td>\n",
              "      <td>Molester</td>\n",
              "      <td>#bromance And talk him up, McCarrick the Moles...</td>\n",
              "      <td>Repetition</td>\n",
              "    </tr>\n",
              "    <tr>\n",
              "      <th>8</th>\n",
              "      <td>769962328</td>\n",
              "      <td>3274</td>\n",
              "      <td>3311</td>\n",
              "      <td>counterfeits, self-proclaimed leaders</td>\n",
              "      <td>I told her that there are too many counterfeit...</td>\n",
              "      <td>Name_Calling,Labeling</td>\n",
              "    </tr>\n",
              "    <tr>\n",
              "      <th>9</th>\n",
              "      <td>776345502</td>\n",
              "      <td>3911</td>\n",
              "      <td>3965</td>\n",
              "      <td>one of the most successful in history, is a TO...</td>\n",
              "      <td>‘Russian Collusion with the Trump Campaign, on...</td>\n",
              "      <td>Exaggeration,Minimisation</td>\n",
              "    </tr>\n",
              "  </tbody>\n",
              "</table>\n",
              "</div>\n",
              "      <button class=\"colab-df-convert\" onclick=\"convertToInteractive('df-f792e62b-5026-4d42-9986-6096f0bdc327')\"\n",
              "              title=\"Convert this dataframe to an interactive table.\"\n",
              "              style=\"display:none;\">\n",
              "        \n",
              "  <svg xmlns=\"http://www.w3.org/2000/svg\" height=\"24px\"viewBox=\"0 0 24 24\"\n",
              "       width=\"24px\">\n",
              "    <path d=\"M0 0h24v24H0V0z\" fill=\"none\"/>\n",
              "    <path d=\"M18.56 5.44l.94 2.06.94-2.06 2.06-.94-2.06-.94-.94-2.06-.94 2.06-2.06.94zm-11 1L8.5 8.5l.94-2.06 2.06-.94-2.06-.94L8.5 2.5l-.94 2.06-2.06.94zm10 10l.94 2.06.94-2.06 2.06-.94-2.06-.94-.94-2.06-.94 2.06-2.06.94z\"/><path d=\"M17.41 7.96l-1.37-1.37c-.4-.4-.92-.59-1.43-.59-.52 0-1.04.2-1.43.59L10.3 9.45l-7.72 7.72c-.78.78-.78 2.05 0 2.83L4 21.41c.39.39.9.59 1.41.59.51 0 1.02-.2 1.41-.59l7.78-7.78 2.81-2.81c.8-.78.8-2.07 0-2.86zM5.41 20L4 18.59l7.72-7.72 1.47 1.35L5.41 20z\"/>\n",
              "  </svg>\n",
              "      </button>\n",
              "      \n",
              "  <style>\n",
              "    .colab-df-container {\n",
              "      display:flex;\n",
              "      flex-wrap:wrap;\n",
              "      gap: 12px;\n",
              "    }\n",
              "\n",
              "    .colab-df-convert {\n",
              "      background-color: #E8F0FE;\n",
              "      border: none;\n",
              "      border-radius: 50%;\n",
              "      cursor: pointer;\n",
              "      display: none;\n",
              "      fill: #1967D2;\n",
              "      height: 32px;\n",
              "      padding: 0 0 0 0;\n",
              "      width: 32px;\n",
              "    }\n",
              "\n",
              "    .colab-df-convert:hover {\n",
              "      background-color: #E2EBFA;\n",
              "      box-shadow: 0px 1px 2px rgba(60, 64, 67, 0.3), 0px 1px 3px 1px rgba(60, 64, 67, 0.15);\n",
              "      fill: #174EA6;\n",
              "    }\n",
              "\n",
              "    [theme=dark] .colab-df-convert {\n",
              "      background-color: #3B4455;\n",
              "      fill: #D2E3FC;\n",
              "    }\n",
              "\n",
              "    [theme=dark] .colab-df-convert:hover {\n",
              "      background-color: #434B5C;\n",
              "      box-shadow: 0px 1px 3px 1px rgba(0, 0, 0, 0.15);\n",
              "      filter: drop-shadow(0px 1px 2px rgba(0, 0, 0, 0.3));\n",
              "      fill: #FFFFFF;\n",
              "    }\n",
              "  </style>\n",
              "\n",
              "      <script>\n",
              "        const buttonEl =\n",
              "          document.querySelector('#df-f792e62b-5026-4d42-9986-6096f0bdc327 button.colab-df-convert');\n",
              "        buttonEl.style.display =\n",
              "          google.colab.kernel.accessAllowed ? 'block' : 'none';\n",
              "\n",
              "        async function convertToInteractive(key) {\n",
              "          const element = document.querySelector('#df-f792e62b-5026-4d42-9986-6096f0bdc327');\n",
              "          const dataTable =\n",
              "            await google.colab.kernel.invokeFunction('convertToInteractive',\n",
              "                                                     [key], {});\n",
              "          if (!dataTable) return;\n",
              "\n",
              "          const docLinkHtml = 'Like what you see? Visit the ' +\n",
              "            '<a target=\"_blank\" href=https://colab.research.google.com/notebooks/data_table.ipynb>data table notebook</a>'\n",
              "            + ' to learn more about interactive tables.';\n",
              "          element.innerHTML = '';\n",
              "          dataTable['output_type'] = 'display_data';\n",
              "          await google.colab.output.renderOutput(dataTable, element);\n",
              "          const docLink = document.createElement('div');\n",
              "          docLink.innerHTML = docLinkHtml;\n",
              "          element.appendChild(docLink);\n",
              "        }\n",
              "      </script>\n",
              "    </div>\n",
              "  </div>\n",
              "  "
            ],
            "text/plain": [
              "   article_id  start_span  end_span  \\\n",
              "0   752287274        7552      7607   \n",
              "1   757843275        3263      3286   \n",
              "2   789370909        6861      6881   \n",
              "3   721890296        2456      2567   \n",
              "4   766632016         455       470   \n",
              "5   111111133        1070      1077   \n",
              "6   765385479        6205      6225   \n",
              "7   776049384        2165      2173   \n",
              "8   769962328        3274      3311   \n",
              "9   776345502        3911      3965   \n",
              "\n",
              "                                           data_span  \\\n",
              "0  if I ever call the police again [he] will do h...   \n",
              "1                            this year’s flu vaccine   \n",
              "2                               the Kavanaugh haters   \n",
              "3  The reason why people are in your country is n...   \n",
              "4                                    massacring Jews   \n",
              "5                                            insults   \n",
              "6                               audaciously revealed   \n",
              "7                                           Molester   \n",
              "8              counterfeits, self-proclaimed leaders   \n",
              "9  one of the most successful in history, is a TO...   \n",
              "\n",
              "                                        data_context  \\\n",
              "0  [Imran] threatened that he is very powerful an...   \n",
              "1  For their sake, let’s hope it works better tha...   \n",
              "2  Ford’s sexual assault allegation could be read...   \n",
              "3  “The reason why people are in your country is ...   \n",
              "4  In 1013, Berbers from North Africa entered Spa...   \n",
              "5  Trump often lobs insults at journalists and en...   \n",
              "6  Katrin Axelsson and Lisa Longstaff of Women Ag...   \n",
              "7  #bromance And talk him up, McCarrick the Moles...   \n",
              "8  I told her that there are too many counterfeit...   \n",
              "9  ‘Russian Collusion with the Trump Campaign, on...   \n",
              "\n",
              "                                label  \n",
              "0            Appeal_to_fear-prejudice  \n",
              "1  Whataboutism,Straw_Men,Red_Herring  \n",
              "2               Name_Calling,Labeling  \n",
              "3             Black-and-White_Fallacy  \n",
              "4                     Loaded_Language  \n",
              "5                     Loaded_Language  \n",
              "6                     Loaded_Language  \n",
              "7                          Repetition  \n",
              "8               Name_Calling,Labeling  \n",
              "9           Exaggeration,Minimisation  "
            ]
          },
          "metadata": {},
          "execution_count": 23
        }
      ],
      "metadata": {
        "colab": {
          "base_uri": "https://localhost:8080/",
          "height": 573
        },
        "id": "a45z3ifr2H2f",
        "outputId": "ada28a38-e74b-4a33-e4e8-133271ea0532"
      }
    },
    {
      "cell_type": "code",
      "execution_count": null,
      "source": [
        "g=[]\n",
        "for i in df['data_span']:\n",
        "    g.append(i)\n",
        "maxl = max([len(s) for s in g])\n",
        "print ('Maximum sequence length in the list of sentences:', maxl)"
      ],
      "outputs": [
        {
          "output_type": "stream",
          "name": "stdout",
          "text": [
            "Maximum sequence length in the list of sentences: 577\n"
          ]
        }
      ],
      "metadata": {
        "colab": {
          "base_uri": "https://localhost:8080/"
        },
        "id": "p3WEygyRoNeY",
        "outputId": "3bde96b6-8120-49ad-fe67-b4910d4b15de"
      }
    },
    {
      "cell_type": "code",
      "execution_count": null,
      "source": [
        "\n",
        "from keras.preprocessing.text import Tokenizer\n",
        "tokenizer = Tokenizer(num_words=50000, filters='!\"#$%&()*+,-./:;<=>?@[\\]^_`{|}~', lower=True)\n",
        "tokenizer.fit_on_texts(df['data_span'].values)\n",
        "word_index = tokenizer.word_index\n",
        "print('Found %s unique tokens.' % len(word_index))"
      ],
      "outputs": [
        {
          "output_type": "stream",
          "name": "stdout",
          "text": [
            "Found 6922 unique tokens.\n"
          ]
        }
      ],
      "metadata": {
        "colab": {
          "base_uri": "https://localhost:8080/"
        },
        "id": "-VarLXUMo1aM",
        "outputId": "e87c63ca-547d-4e2e-ec91-6b0b5495f3e6"
      }
    },
    {
      "cell_type": "code",
      "execution_count": null,
      "source": [
        ""
      ],
      "outputs": [],
      "metadata": {
        "id": "eJKcIVjwpCJ9"
      }
    },
    {
      "cell_type": "code",
      "execution_count": null,
      "source": [
        "from keras.preprocessing.sequence import pad_sequences\n",
        "\n",
        "X = tokenizer.texts_to_sequences(df['data_span'].values)\n",
        "X = pad_sequences(X, maxlen=maxl)\n",
        "\n",
        "Y = pd.get_dummies(df['label'],columns=df[\"label\"]).values\n"
      ],
      "outputs": [],
      "metadata": {
        "id": "NJwc4p2GpCRI"
      }
    },
    {
      "cell_type": "code",
      "execution_count": null,
      "source": [
        "X_train, X_test, Y_train, Y_test = train_test_split(X,Y, test_size = 0.1, random_state = 42)\n",
        "print(X_train.shape,Y_train.shape)\n",
        "print(X_test.shape,Y_test.shape)\n",
        "\n"
      ],
      "outputs": [
        {
          "output_type": "stream",
          "name": "stdout",
          "text": [
            "(3860, 577) (3860, 14)\n",
            "(429, 577) (429, 14)\n"
          ]
        }
      ],
      "metadata": {
        "colab": {
          "base_uri": "https://localhost:8080/"
        },
        "id": "8lzEM8Tq2M0Q",
        "outputId": "b5ce2cde-27c1-4c94-cbe4-3142154d8c34"
      }
    },
    {
      "cell_type": "code",
      "execution_count": null,
      "source": [
        "Y[0]"
      ],
      "outputs": [
        {
          "output_type": "execute_result",
          "data": {
            "text/plain": [
              "array([0, 1, 0, 0, 0, 0, 0, 0, 0, 0, 0, 0, 0, 0], dtype=uint8)"
            ]
          },
          "metadata": {},
          "execution_count": 28
        }
      ],
      "metadata": {
        "colab": {
          "base_uri": "https://localhost:8080/"
        },
        "id": "UfZST6V7nES8",
        "outputId": "744ea7c6-58cf-48f4-dc23-18e04baa43a6"
      }
    },
    {
      "cell_type": "code",
      "execution_count": null,
      "source": [
        "from keras.models import Sequential\n",
        "from keras.layers import Dense, Embedding, LSTM, SpatialDropout1D\n",
        "from sklearn.model_selection import train_test_split\n",
        "from keras.utils.np_utils import to_categorical\n",
        "from keras.callbacks import EarlyStopping\n",
        "from keras.layers import Dropout\n",
        "\n",
        "model=Sequential()\n",
        "model.add(Embedding(50000,100,input_length=maxl))\n",
        "model.add(SpatialDropout1D(0.2))\n",
        "model.add(LSTM(100, dropout=0.2, recurrent_dropout=0.2))\n",
        "model.add(Dense(14, activation='softmax'))\n",
        "model.compile(loss='categorical_crossentropy', optimizer='adam', metrics=['accuracy'])\n",
        "model.summary()\n"
      ],
      "outputs": [
        {
          "output_type": "stream",
          "name": "stdout",
          "text": [
            "WARNING:tensorflow:Layer lstm will not use cuDNN kernels since it doesn't meet the criteria. It will use a generic GPU kernel as fallback when running on GPU.\n",
            "Model: \"sequential\"\n",
            "_________________________________________________________________\n",
            " Layer (type)                Output Shape              Param #   \n",
            "=================================================================\n",
            " embedding (Embedding)       (None, 577, 100)          5000000   \n",
            "                                                                 \n",
            " spatial_dropout1d (SpatialD  (None, 577, 100)         0         \n",
            " ropout1D)                                                       \n",
            "                                                                 \n",
            " lstm (LSTM)                 (None, 100)               80400     \n",
            "                                                                 \n",
            " dense (Dense)               (None, 14)                1414      \n",
            "                                                                 \n",
            "=================================================================\n",
            "Total params: 5,081,814\n",
            "Trainable params: 5,081,814\n",
            "Non-trainable params: 0\n",
            "_________________________________________________________________\n"
          ]
        }
      ],
      "metadata": {
        "colab": {
          "base_uri": "https://localhost:8080/"
        },
        "id": "kxtLeypsnEx8",
        "outputId": "c70fbaa4-0d16-4e2b-ad2c-757b17f8f542"
      }
    },
    {
      "cell_type": "code",
      "execution_count": null,
      "source": [
        "history = model.fit(X_train, Y_train, epochs=15, batch_size=64,validation_split=0.1,callbacks=[EarlyStopping(monitor='val_loss', patience=3, min_delta=0.0001)])"
      ],
      "outputs": [
        {
          "output_type": "stream",
          "name": "stdout",
          "text": [
            "Epoch 1/15\n",
            "55/55 [==============================] - 224s 4s/step - loss: 0.2968 - accuracy: 0.9162 - val_loss: 2.1249 - val_accuracy: 0.4974\n",
            "Epoch 2/15\n",
            "55/55 [==============================] - 221s 4s/step - loss: 0.2438 - accuracy: 0.9249 - val_loss: 2.1946 - val_accuracy: 0.5233\n",
            "Epoch 3/15\n",
            "55/55 [==============================] - 221s 4s/step - loss: 0.2205 - accuracy: 0.9335 - val_loss: 2.3123 - val_accuracy: 0.4974\n",
            "Epoch 4/15\n",
            "55/55 [==============================] - 222s 4s/step - loss: 0.1908 - accuracy: 0.9430 - val_loss: 2.2765 - val_accuracy: 0.5181\n"
          ]
        }
      ],
      "metadata": {
        "colab": {
          "base_uri": "https://localhost:8080/"
        },
        "id": "6VD2sQtnppzm",
        "outputId": "6c443cda-e0f4-4f96-80f6-64a7c2b6d8a6"
      }
    },
    {
      "cell_type": "code",
      "execution_count": null,
      "source": [
        "accuracy = model.evaluate(X_test,Y_test)\n",
        "print('Test set\\n  Loss: {:0.3f}\\n  Accuracy: {:0.3f}'.format(accuracy[0],accuracy[1]))"
      ],
      "outputs": [
        {
          "output_type": "stream",
          "name": "stdout",
          "text": [
            "14/14 [==============================] - 7s 507ms/step - loss: 2.4801 - accuracy: 0.4918\n",
            "Test set\n",
            "  Loss: 2.480\n",
            "  Accuracy: 0.492\n"
          ]
        }
      ],
      "metadata": {
        "colab": {
          "base_uri": "https://localhost:8080/"
        },
        "id": "IIq1R9mEptW6",
        "outputId": "9ce4450a-6871-46b6-8c5d-311893401525"
      }
    },
    {
      "cell_type": "code",
      "execution_count": null,
      "source": [
        "labels = list(set(df['label']))\n",
        "print(labels)\n",
        "print(len(labels))\n",
        "\n"
      ],
      "outputs": [
        {
          "output_type": "stream",
          "name": "stdout",
          "text": [
            "['Thought-terminating_Cliches', 'Flag-Waving', 'Whataboutism,Straw_Men,Red_Herring', 'Causal_Oversimplification', 'Appeal_to_fear-prejudice', 'Exaggeration,Minimisation', 'Bandwagon,Reductio_ad_hitlerum', 'Doubt', 'Appeal_to_Authority', 'Loaded_Language', 'Slogans', 'Black-and-White_Fallacy', 'Repetition', 'Name_Calling,Labeling']\n",
            "14\n"
          ]
        }
      ],
      "metadata": {
        "colab": {
          "base_uri": "https://localhost:8080/"
        },
        "id": "5065Z2h0s6yj",
        "outputId": "8fc6bcff-fefa-48a0-b1c0-a474d807cbd3"
      }
    },
    {
      "cell_type": "code",
      "execution_count": null,
      "source": [
        "# new_complaint = [\"no government operation ever goes perfectly\tBut no government operation ever goes perfectly.\"]\n",
        "\n",
        "def get_pred(text):\n",
        "\n",
        "  seq = tokenizer.texts_to_sequences([text])\n",
        "  padded = pad_sequences(seq, maxlen=maxl)\n",
        "  pred = model.predict(padded)\n",
        "  labels = list(set(df['label']))\n",
        "  #print(pred, labels[np.argmax(pred)])\n",
        "  return labels[np.argmax(pred)]"
      ],
      "outputs": [],
      "metadata": {
        "id": "tTmezpRgptct"
      }
    },
    {
      "cell_type": "code",
      "execution_count": null,
      "source": [
        "def create_prediction_list(sents):\n",
        "  out=[]\n",
        "  for sent in sents:\n",
        "    out.append(get_pred(sent))\n",
        "  return out    \n",
        "\n",
        "output=create_prediction_list(sents)\n",
        "\n",
        "  \n",
        "\n"
      ],
      "outputs": [],
      "metadata": {
        "id": "7LTmsfLdZlfv"
      }
    },
    {
      "cell_type": "code",
      "execution_count": null,
      "source": [
        "##for each text file as input get the start,end indices of each span identified in that text and perform prediciton\n",
        "\n",
        "dev_df.head()\n",
        "dev_df=dev_df.drop(columns=['text'])\n",
        "dev_df['technique']=output"
      ],
      "outputs": [],
      "metadata": {
        "id": "psroCt_ctDRe"
      }
    },
    {
      "cell_type": "code",
      "execution_count": null,
      "source": [
        "dev_df = dev_df.reindex(['art_id','technique','starts','ends'], axis=1)\n"
      ],
      "outputs": [],
      "metadata": {
        "id": "mFQUs4FIKBY2"
      }
    },
    {
      "cell_type": "code",
      "execution_count": null,
      "source": [
        "dev_df.to_csv('output_tc_baseline.tsv', sep='\\t', index=False,header=False)\n"
      ],
      "outputs": [],
      "metadata": {
        "id": "H4CgfwHmKc4y"
      }
    },
    {
      "cell_type": "code",
      "execution_count": null,
      "source": [
        "# sys.path.insert(0,\"/content\")"
      ],
      "outputs": [],
      "metadata": {
        "id": "f91QZlTGLwaq"
      }
    },
    {
      "cell_type": "code",
      "execution_count": null,
      "source": [
        "\n",
        "\n",
        "\n",
        "\n",
        "import sys\n",
        "import argparse\n",
        "import logging.handlers\n",
        "from sklearn.metrics import f1_score\n",
        "from sklearn.metrics import precision_score\n",
        "from sklearn.metrics import recall_score\n",
        "import src.annotation as an\n",
        "import src.annotations as ans\n",
        "import src.propaganda_techniques as pt\n",
        "\n",
        "logger = logging.getLogger(\"propaganda_scorer\")\n",
        "ch = logging.StreamHandler(sys.stdout)\n",
        "ch.setLevel(logging.INFO)\n",
        "formatter = logging.Formatter('%(asctime)s - %(levelname)s - %(message)s')\n",
        "ch.setFormatter(formatter)\n",
        "logger.setLevel(logging.INFO)\n",
        "\n",
        "\n",
        "def main():\n",
        "\n",
        "    user_submission_file = \"/content/output_tc_baseline.tsv\"\n",
        "    gold_file = \"/content/drive/MyDrive/project_5_data/datasets/dev-task-flc-tc.labels\"\n",
        "    # output_log_file = args.log_file\n",
        "    propaganda_techniques_list_file = propaganda_techniques_names\n",
        "    # output_for_script = bool(args.output_for_script)\n",
        "\n",
        "    # if not output_for_script:\n",
        "    #     logger.addHandler(ch)\n",
        "\n",
        "    # if args.debug_on_std:\n",
        "    #     ch.setLevel(logging.DEBUG)\n",
        "\n",
        "    # if output_log_file is not None:\n",
        "    #     logger.info(\"Logging execution to file \" + output_log_file)\n",
        "    #     fileLogger = logging.FileHandler(output_log_file)\n",
        "    #     fileLogger.setLevel(logging.DEBUG)\n",
        "    #     fileLogger.setFormatter(formatter)\n",
        "    #     logger.addHandler(fileLogger)\n",
        "\n",
        "    propaganda_techniques = pt.Propaganda_Techniques(propaganda_techniques_list_file)\n",
        "    an.Annotation.set_propaganda_technique_list_obj(propaganda_techniques)\n",
        "\n",
        "    user_annotations = ans.Annotations()\n",
        "    user_annotations.load_annotation_list_from_file(user_submission_file)\n",
        "    for article in user_annotations.get_article_id_list():\n",
        "        user_annotations.get_article_annotations_obj(article).sort_spans()\n",
        "\n",
        "    gold_annotations = ans.Annotations()\n",
        "    gold_annotations.load_annotation_list_from_file(gold_file)\n",
        "    for article in gold_annotations.get_article_id_list():\n",
        "        gold_annotations.get_article_annotations_obj(article).sort_spans()\n",
        "\n",
        "    logger.info(\"Checking format: User Predictions -- Gold Annotations\")\n",
        "    if not user_annotations.compare_annotations_identical_article_lists(gold_annotations) or not user_annotations.compare_annotations_identical(gold_annotations):\n",
        "        logger.error(\"wrong format, no scoring will be performed\")\n",
        "        sys.exit()\n",
        "    logger.info(\"OK: submission file format appears to be correct\")\n",
        "    res_for_output, res_for_script = user_annotations.TC_score_to_string(gold_annotations, True)\n",
        "    # res_for_output, res_for_script = user_annotations.TC_score_to_string(gold_annotations, output_for_script)\n",
        "\n",
        "    \n",
        "    logger.info(\"Scoring submission\" + res_for_output)\n",
        "    # if output_for_script:\n",
        "    print(res_for_script)\n",
        "    print(res_for_output)\n",
        "\n",
        "\n",
        "if __name__ == \"__main__\":\n",
        "\n",
        "    # parser = argparse.ArgumentParser(\"Scorer for SemEval 2020 Task 11 subtask TC.\\n\" +\n",
        "    # \"Example: python3 task-TC_scorer.py -s data/submission-task-TC.tsv -r data/article736757214.task-FLC.labels -p data/propaganda-techniques-names-semeval2020task11.txt\")\n",
        "\n",
        "    # parser.add_argument('-s', '--submission-file', dest='submission', required=True, help=\"file with the submission of the team\")\n",
        "    # parser.add_argument('-r', '--reference-file', dest='gold', required=True, help=\"file with the gold labels.\")\n",
        "    # parser.add_argument('-d', '--enable-debug-on-standard-output', dest='debug_on_std', required=False,\n",
        "    #                     action='store_true', help=\"Print debug info also on standard output.\")\n",
        "    # parser.add_argument('-l', '--log-file', dest='log_file', required=False, help=\"Output logger file.\")\n",
        "    # parser.add_argument('-p', '--propaganda-techniques-list-file', dest='propaganda_techniques_list_file', required=True, \n",
        "    #                     help=\"file with list of propaganda techniques (one per line).\")\n",
        "    # parser.add_argument('-o', '--output-for-script', dest='output_for_script', required=False, action='store_true',\n",
        "    #                     default=False, help=\"Prints the output in a format easy to parse for a script\")\n",
        "    # main(parser.parse_args())\n",
        "    main()\n"
      ],
      "outputs": [],
      "metadata": {
        "id": "vOXOi7Q5Hq5R"
      }
    },
    {
      "cell_type": "code",
      "execution_count": null,
      "source": [
        ""
      ],
      "outputs": [],
      "metadata": {
        "id": "VtcTLeJHKbv9"
      }
    },
    {
      "cell_type": "code",
      "execution_count": null,
      "source": [
        ""
      ],
      "outputs": [],
      "metadata": {
        "id": "Eg1aAtfwH32E"
      }
    }
  ]
}